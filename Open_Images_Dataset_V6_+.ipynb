{
  "nbformat": 4,
  "nbformat_minor": 0,
  "metadata": {
    "colab": {
      "name": "Open Images Dataset V6 +",
      "provenance": [],
      "include_colab_link": true
    },
    "kernelspec": {
      "name": "python3",
      "display_name": "Python 3"
    }
  },
  "cells": [
    {
      "cell_type": "markdown",
      "metadata": {
        "id": "view-in-github",
        "colab_type": "text"
      },
      "source": [
        "<a href=\"https://colab.research.google.com/github/wwfish/dl-open-images-collab/blob/main/Open_Images_Dataset_V6_%2B.ipynb\" target=\"_parent\"><img src=\"https://colab.research.google.com/assets/colab-badge.svg\" alt=\"Open In Colab\"/></a>"
      ]
    },
    {
      "cell_type": "markdown",
      "metadata": {
        "id": "IoBh-spu7tX5"
      },
      "source": [
        "**Open Images Dataset V6 +**"
      ]
    },
    {
      "cell_type": "code",
      "metadata": {
        "id": "BAMf2L1K7ya0"
      },
      "source": [
        "!git clone https://github.com/EscVM/OIDv4_ToolKit.git"
      ],
      "execution_count": null,
      "outputs": []
    },
    {
      "cell_type": "code",
      "metadata": {
        "id": "BrgbMkY47E7j"
      },
      "source": [
        "!pip3 install -r /content/OIDv4_ToolKit/requirements.txt"
      ],
      "execution_count": null,
      "outputs": []
    },
    {
      "cell_type": "code",
      "metadata": {
        "id": "KKMfwym_7KKn"
      },
      "source": [
        "!python /content/OIDv4_ToolKit/main.py downloader --classes Man Woman Dog --type_csv train --limit 100"
      ],
      "execution_count": null,
      "outputs": []
    },
    {
      "cell_type": "code",
      "metadata": {
        "id": "4G2JwPMK7QKa"
      },
      "source": [
        "!python /content/OIDv4_ToolKit/main.py downloader --classes Man Woman Dog --type_csv test --limit 50"
      ],
      "execution_count": null,
      "outputs": []
    }
  ]
}